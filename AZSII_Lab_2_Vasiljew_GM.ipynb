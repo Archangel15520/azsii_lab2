{
  "nbformat": 4,
  "nbformat_minor": 0,
  "metadata": {
    "colab": {
      "provenance": []
    },
    "kernelspec": {
      "name": "python3",
      "display_name": "Python 3"
    },
    "language_info": {
      "name": "python"
    }
  },
  "cells": [
    {
      "cell_type": "markdown",
      "source": [
        "Васильев Г.М. ББМО-02-23\n",
        "\n",
        "Практика 2: Исследование атак на модели ИИ. Fast\n",
        "Gradient Sign Method (FGSM)"
      ],
      "metadata": {
        "id": "yI523Au3AhOw"
      }
    },
    {
      "cell_type": "markdown",
      "source": [
        "Обученную модель 'mnist_model.h5' для загрузки в код можно найти в репозитории перейдя по ссылке: https://github.com/Archangel15520/AZSII-REPO/blob/main/README.md"
      ],
      "metadata": {
        "id": "D-MZBwmRDVrK"
      }
    },
    {
      "cell_type": "markdown",
      "source": [
        "Цель задания:\n",
        "\n",
        "\n",
        "Познакомиться с одной из популярных атак на системы машинного обучения — атакой Fast Gradient\n",
        "Sign Method (FGSM). Задача — научиться использовать FGSM для создания противоречивых (adversarial)\n",
        "примеров, которые могут ввести обученную модель в заблуждение.\n",
        "\n",
        "В коде используется ранее обученная модель на датасете MNIST"
      ],
      "metadata": {
        "id": "BYWXNmypAy-Y"
      }
    },
    {
      "cell_type": "code",
      "source": [
        "# Подключение к Google Drive для загрузки модели\n",
        "from google.colab import drive\n",
        "import tensorflow as tf\n",
        "from tensorflow.keras.datasets import mnist\n",
        "from tensorflow.keras.utils import to_categorical\n",
        "import numpy as np\n",
        "import matplotlib.pyplot as plt\n",
        "\n",
        "# Подключение Google Drive\n",
        "#drive.mount('/content/drive')\n",
        "\n",
        "# Шаг 1: Загрузка тестовых данных MNIST\n",
        "(_, _), (test_images, test_labels) = mnist.load_data()\n",
        "\n",
        "# Нормализация данных\n",
        "test_images = test_images / 255.0\n",
        "\n",
        "# Преобразование меток в one-hot encoding\n",
        "test_labels_one_hot = to_categorical(test_labels, 10)\n",
        "\n",
        "# Преобразование изображений в 4-мерный тензор для модели (число образцов, высота, ширина, количество каналов)\n",
        "test_images = test_images.reshape(-1, 28, 28, 1)\n",
        "\n",
        "# Загрузка обученной модели из Google Drive\n",
        "model = tf.keras.models.load_model('mnist_model.h5')\n",
        "\n",
        "# Проверка точности модели на обычных данных с one-hot encoded метками\n",
        "test_loss, test_acc = model.evaluate(test_images, test_labels_one_hot)\n",
        "print(f'Test accuracy on clean images: {test_acc}')\n",
        "\n",
        "# Шаг 2: Реализация FGSM\n",
        "def fgsm_attack(image, epsilon, gradient):\n",
        "    # Применение знака градиента к изображению\n",
        "    perturbed_image = image + epsilon * np.sign(gradient)\n",
        "    # Обрезка значений, чтобы они оставались в пределах [0,1]\n",
        "    perturbed_image = np.clip(perturbed_image, 0, 1)\n",
        "    return perturbed_image\n",
        "\n",
        "# Вычисление градиента и создание противоречивого примера\n",
        "def generate_adversarial_example(model, image, label, epsilon):\n",
        "    # Преобразование изображения в формат, подходящий для модели\n",
        "    image = tf.convert_to_tensor(image.reshape((1, 28, 28, 1)), dtype=tf.float32)\n",
        "    label = tf.convert_to_tensor(label.reshape((1, 10)), dtype=tf.float32)\n",
        "    with tf.GradientTape() as tape:\n",
        "        tape.watch(image)\n",
        "        prediction = model(image)\n",
        "        loss = tf.keras.losses.categorical_crossentropy(label, prediction)\n",
        "        # Получение градиента по отношению к входному изображению\n",
        "        gradient = tape.gradient(loss, image)\n",
        "\n",
        "    # Применение FGSM\n",
        "    adversarial_image = fgsm_attack(image.numpy(), epsilon, gradient.numpy())\n",
        "    return adversarial_image\n",
        "\n",
        "# Шаг 3: Пример использования FGSM\n",
        "epsilon = 0.1  # Величина шума\n",
        "adversarial_example = generate_adversarial_example(model, test_images[0], test_labels_one_hot[0], epsilon)\n",
        "\n",
        "# Вывод оригинального и противоречивого изображений\n",
        "plt.figure()\n",
        "plt.subplot(1, 2, 1)\n",
        "plt.title(\"Оригинальное изображение\")\n",
        "plt.imshow(test_images[0].reshape(28, 28), cmap=\"gray\")\n",
        "\n",
        "plt.subplot(1, 2, 2)\n",
        "plt.title(\"Противоречивое изображение\")\n",
        "plt.imshow(adversarial_example.reshape(28, 28), cmap=\"gray\")\n",
        "plt.show()\n",
        "\n",
        "# Шаг 4: Генерация противоречивых примеров для всего набора данных\n",
        "def generate_adversarial_dataset(model, images, labels, epsilon):\n",
        "    adversarial_images = []\n",
        "    for i in range(len(images)):\n",
        "        adv_image = generate_adversarial_example(model, images[i], labels[i], epsilon)\n",
        "        adversarial_images.append(adv_image)\n",
        "    return np.array(adversarial_images)\n",
        "\n",
        "# Генерация противоречивых примеров\n",
        "adversarial_images = generate_adversarial_dataset(model, test_images, test_labels_one_hot, epsilon)\n",
        "\n",
        "# Преобразование противоречивых изображений в 4-мерный тензор\n",
        "adversarial_images = adversarial_images.reshape(-1, 28, 28, 1)\n",
        "\n",
        "# Оценка модели на противоречивых примерах\n",
        "adversarial_loss, adversarial_acc = model.evaluate(adversarial_images, test_labels_one_hot)\n",
        "print(f'Точность на состязательных примерах: {adversarial_acc}')\n",
        "\n",
        "# Шаг 5: Сравнение результатов\n",
        "print(f'Проверьте точность на чистых изображениях: {test_acc}')\n",
        "print(f'Точность на состязательных примерах: {adversarial_acc}')\n"
      ],
      "metadata": {
        "colab": {
          "base_uri": "https://localhost:8080/",
          "height": 436
        },
        "id": "XN3ghDcy7xri",
        "outputId": "ec416665-a608-4b7b-a1b2-f8b7779e781d"
      },
      "execution_count": null,
      "outputs": [
        {
          "output_type": "stream",
          "name": "stderr",
          "text": [
            "WARNING:absl:Compiled the loaded model, but the compiled metrics have yet to be built. `model.compile_metrics` will be empty until you train or evaluate the model.\n"
          ]
        },
        {
          "output_type": "stream",
          "name": "stdout",
          "text": [
            "\u001b[1m313/313\u001b[0m \u001b[32m━━━━━━━━━━━━━━━━━━━━\u001b[0m\u001b[37m\u001b[0m \u001b[1m1s\u001b[0m 2ms/step - accuracy: 0.9736 - loss: 0.0847\n",
            "Test accuracy on clean images: 0.977400004863739\n"
          ]
        },
        {
          "output_type": "display_data",
          "data": {
            "text/plain": [
              "<Figure size 640x480 with 2 Axes>"
            ],
            "image/png": "[encoded data removed]"
          },
          "metadata": {}
        },
        {
          "output_type": "stream",
          "name": "stdout",
          "text": [
            "\u001b[1m313/313\u001b[0m \u001b[32m━━━━━━━━━━━━━━━━━━━━\u001b[0m\u001b[37m\u001b[0m \u001b[1m1s\u001b[0m 3ms/step - accuracy: 0.0660 - loss: 7.0068\n",
            "Точность на состязательных примерах: 0.08540000021457672\n",
            "Проверьте точность на чистых изображениях: 0.977400004863739\n",
            "Точность на состязательных примерах: 0.08540000021457672\n"
          ]
        }
      ]
    },
    {
      "cell_type": "markdown",
      "source": [
        "Вывод:\n",
        "\n",
        "В ходе выполнения практики были успешно сгенерированы противоречивые примеры с использованием метода Fast Gradient Sign Method (FGSM).\n",
        "\n",
        "Точность модели на обычных данных составила 97.74%, что подтверждает высокую эффективность обученной модели на чистом датасете MNIST.\n",
        "Точность модели на противоречивых примерах оказалась значительно ниже и составила 8.54%. Это свидетельствует о том, что модель легко вводится в заблуждение при наличии небольших, целенаправленных изменений в входных данных.\n",
        "Таким образом, результаты демонстрируют, как противоречивые примеры могут существенно снижать производительность нейронной сети, что подчеркивает важность защиты моделей машинного обучения от подобных атак."
      ],
      "metadata": {
        "id": "lIY4q-eMANf8"
      }
    }
  ]
}